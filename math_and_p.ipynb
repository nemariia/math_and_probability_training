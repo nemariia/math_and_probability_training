{
 "cells": [
  {
   "cell_type": "markdown",
   "id": "732fa894-a5fa-49b3-b59c-c882bf7a6af6",
   "metadata": {},
   "source": [
    "# Topics"
   ]
  },
  {
   "cell_type": "markdown",
   "id": "1dd8cff6-f04e-434e-81de-32aa49f794c9",
   "metadata": {},
   "source": [
    "**Math Power-Up** - Number theory essentials - Sets, functions, and sequences - Induction: the proof technique - Logic fundamentals"
   ]
  },
  {
   "cell_type": "markdown",
   "id": "b2b9cc9a-3568-48a4-a51c-f62f08c739aa",
   "metadata": {},
   "source": [
    "**Probability & Statistics** - Probability of events - Conditional probability: the plot thickens - Discrete random variables - Statistics overview"
   ]
  },
  {
   "cell_type": "markdown",
   "id": "967bf607-5c6c-4564-80de-c833db59781f",
   "metadata": {},
   "source": [
    "# Math"
   ]
  },
  {
   "cell_type": "markdown",
   "id": "11092e0c-e57d-47c5-ae49-739ec12acacd",
   "metadata": {},
   "source": [
    "## Prime Numbers\n",
    "\n",
    "A prime number is a natural number greater than 1 that has no positive divisors other than 1 and itself.\n",
    "\n",
    "Every number greater than 1 is either prime or can be factored into primes.\n",
    "\n",
    "**Prime gaps:** Prime numbers become less frequent as numbers increase, with arbitrarily large gaps between them. Still, there are infinitely many primes (Proven by **Euclid**)."
   ]
  },
  {
   "cell_type": "markdown",
   "id": "367bc24c-2b6c-4c9e-943c-b25c2ced5f66",
   "metadata": {},
   "source": [
    "## Applications\n",
    "\n",
    "RSA encryption, algorithms, combinatorics, game theory, etc."
   ]
  },
  {
   "cell_type": "markdown",
   "id": "d7b45525-62b1-44cb-bed5-88a72fe4e7d8",
   "metadata": {},
   "source": [
    "## Sieve of Eratosthenes\n",
    "\n",
    "One of the most efficient algorithms to find all prime numbers up to a given limit nn. It works by iteratively marking the multiples of each prime number starting from 2."
   ]
  },
  {
   "cell_type": "code",
   "execution_count": 95,
   "id": "ccc13cbf-23c2-4d0b-a1f8-55cfdd2f6f00",
   "metadata": {},
   "outputs": [],
   "source": [
    "def sieve_of_eratosthenes(n):\n",
    "    primes = [True] * (n + 1)\n",
    "    p = 2\n",
    "    while p * p <= n:\n",
    "        if primes[p]:\n",
    "            for i in range(p * p, n + 1, p):\n",
    "                primes[i] = False\n",
    "        p += 1\n",
    "    return [p for p in range(2, n + 1) if primes[p]]"
   ]
  },
  {
   "cell_type": "code",
   "execution_count": 97,
   "id": "b04659c8-36ce-4819-b9bc-17bfccf534cf",
   "metadata": {},
   "outputs": [
    {
     "data": {
      "text/plain": [
       "[2, 3, 5]"
      ]
     },
     "execution_count": 97,
     "metadata": {},
     "output_type": "execute_result"
    }
   ],
   "source": [
    "sieve_of_eratosthenes(5)"
   ]
  },
  {
   "cell_type": "markdown",
   "id": "2b197c0f-1b9c-41f9-b31f-362e77ac2150",
   "metadata": {},
   "source": [
    "## GCD - Greatest Common Divisor\n",
    "\n",
    "The GCD of a sequence of numbers is defined as the greatest integer that divides all the numbers in the sequence evenly.\n",
    "For example, the GCD of the sequence [4,6,16] is 2."
   ]
  },
  {
   "cell_type": "code",
   "execution_count": 100,
   "id": "47cbee46-aef5-4bf8-913f-ffe1216d8ec3",
   "metadata": {},
   "outputs": [],
   "source": [
    "def gcd_req(a, b):\n",
    "    if a == 0:\n",
    "        return b\n",
    "    return gcd(b % a, a)"
   ]
  },
  {
   "cell_type": "code",
   "execution_count": 19,
   "id": "b75b9802-c1a1-4510-9de1-7e4e898212de",
   "metadata": {},
   "outputs": [],
   "source": [
    "def gcd_sub(a, b):\n",
    "    while a != b :\n",
    "        if a > b:\n",
    "            a = a - b\n",
    "        else:\n",
    "            b = b - a\n",
    "    return a"
   ]
  },
  {
   "cell_type": "code",
   "execution_count": 51,
   "id": "d3c1c9f9-db28-4d49-8c72-e41625251917",
   "metadata": {},
   "outputs": [
    {
     "data": {
      "text/plain": [
       "8"
      ]
     },
     "execution_count": 51,
     "metadata": {},
     "output_type": "execute_result"
    }
   ],
   "source": [
    "gcd_req(56, 144)"
   ]
  },
  {
   "cell_type": "code",
   "execution_count": 53,
   "id": "9881a02c-8079-4a95-add4-6427510cf3d2",
   "metadata": {},
   "outputs": [
    {
     "data": {
      "text/plain": [
       "8"
      ]
     },
     "execution_count": 53,
     "metadata": {},
     "output_type": "execute_result"
    }
   ],
   "source": [
    "gcd_sub(56, 144)"
   ]
  },
  {
   "cell_type": "markdown",
   "id": "ae5a2649-15e4-48c5-b375-995f245a061d",
   "metadata": {},
   "source": [
    "### Number of Subarrays With GCD Equal to K\n",
    "\n",
    "https://leetcode.com/problems/number-of-subarrays-with-gcd-equal-to-k/description/?envType=problem-list-v2&envId=math"
   ]
  },
  {
   "cell_type": "markdown",
   "id": "7ba8d8f4-0954-4882-9587-9e3def8f1bd1",
   "metadata": {},
   "source": [
    "## LCM - Least Common Multiple\n",
    "\n",
    "The smallest number that both aa and bb divide evenly into.\n",
    "\n",
    "- LCM is commonly used in problems that involve syncing cycles or periodic events (e.g., finding when two lights blink at the same time, or aligning patterns).\n",
    "- It is also useful for finding a common denominator when adding or subtracting fractions."
   ]
  },
  {
   "cell_type": "code",
   "execution_count": 60,
   "id": "3f18f04c-49cd-4eb1-8ba0-014f43d2199c",
   "metadata": {},
   "outputs": [],
   "source": [
    "#LCM Using GCD Method\n",
    "import math\n",
    "\n",
    "def lcm(a, b):\n",
    "    return abs(a * b) // math.gcd(a, b)"
   ]
  },
  {
   "cell_type": "code",
   "execution_count": 62,
   "id": "bf8caccd-e53a-4f84-b653-723d34f048c8",
   "metadata": {},
   "outputs": [
    {
     "name": "stdout",
     "output_type": "stream",
     "text": [
      "36\n"
     ]
    }
   ],
   "source": [
    "print(lcm(12, 18))"
   ]
  },
  {
   "cell_type": "code",
   "execution_count": 64,
   "id": "fec73c52-2316-4040-b23c-0adc2d0cec24",
   "metadata": {},
   "outputs": [],
   "source": [
    "#LCM Using Prime Factorization\n",
    "from collections import Counter\n",
    "\n",
    "def prime_factors(n):\n",
    "    factors = []\n",
    "    i = 2\n",
    "    while i * i <= n:\n",
    "        if n % i:\n",
    "            i += 1\n",
    "        else:\n",
    "            n //= i\n",
    "            factors.append(i)\n",
    "    if n > 1:\n",
    "        factors.append(n)\n",
    "    return factors\n",
    "\n",
    "def lcm_prime_factorization(a, b):\n",
    "    factors_a = Counter(prime_factors(a))\n",
    "    factors_b = Counter(prime_factors(b))\n",
    "    \n",
    "    combined_factors = factors_a | factors_b\n",
    "    result = 1\n",
    "    for prime, power in combined_factors.items():\n",
    "        result *= prime ** power\n",
    "    return result"
   ]
  },
  {
   "cell_type": "code",
   "execution_count": 66,
   "id": "03ee5bca-7a72-484c-ae22-faadb7a38e2b",
   "metadata": {},
   "outputs": [
    {
     "name": "stdout",
     "output_type": "stream",
     "text": [
      "36\n"
     ]
    }
   ],
   "source": [
    "print(lcm_prime_factorization(12, 18))"
   ]
  },
  {
   "cell_type": "markdown",
   "id": "a80d4121-923c-4688-9062-9d13ce8cae6c",
   "metadata": {},
   "source": [
    "The prime factorization method is conceptually important but less efficient for very large numbers compared to the GCD method."
   ]
  },
  {
   "cell_type": "markdown",
   "id": "5498326b-1e6e-4ddf-a3e2-9e4ceb9b2ef1",
   "metadata": {},
   "source": [
    "### Number of Subarrays With LCM Equal to K\n",
    "\n",
    "https://leetcode.com/problems/number-of-subarrays-with-lcm-equal-to-k/description/?envType=problem-list-v2&envId=math"
   ]
  },
  {
   "cell_type": "markdown",
   "id": "b7437738-8b13-45e7-91cb-1d0bd7014221",
   "metadata": {},
   "source": [
    "## Modular Arithmetic Overview\n",
    "\n",
    "**a mod n**\n",
    "\n",
    "Where\n",
    "- a is the dividend\n",
    "- n is the modulus (the divisor)\n",
    "- the result is the remainder after dividing a by n\n",
    "\n",
    "Examples:\n",
    "- 17 mod 5 = 2\n",
    "- 10 mod 3 = 1"
   ]
  },
  {
   "cell_type": "markdown",
   "id": "4cdb6430-7f86-475d-870e-f5163195f938",
   "metadata": {},
   "source": [
    "**Addition Modulo n:**\n",
    "\n",
    "(a + b) mod n = (( a mod n) + (b mod n)) mod n\n",
    "\n",
    "**Subtraction Modulo n**\n",
    "\n",
    "(a − b) mod n = ((a mod n) − (b mod n) + n) mod n\n",
    "\n",
    "**Multiplication Modulo n:**\n",
    "\n",
    "(a ⋅ b) mod n = ((a mod n) ⋅ (b mod n)) mod n\n",
    "\n",
    "**Exponentiation Modulo n (Modular Exponentiation):**\n",
    "\n",
    "(a$^b$) mod n\n",
    "\n",
    "If b = c + d, then\n",
    "(a$^b$) mod n = ((a$^c$ mod n) ⋅ (a$^d$ mod n)) mod n\n",
    "\n",
    "**Division in Modular Arithmetic:**\n",
    "\n",
    "To divide in modular arithmetic, you need the modular inverse of a number, which exists only if the number and the modulus are coprime (i.e., their GCD is 1)."
   ]
  },
  {
   "cell_type": "markdown",
   "id": "c935124c-5880-416c-80be-6a340d9f8e44",
   "metadata": {},
   "source": [
    "## Modular Inverse\n",
    "\n",
    "The modular inverse of a number a mod n is a number b such that:\n",
    "(a ⋅ b) mod n = 1 mod n\n",
    "\n",
    "The modular inverse of a mod n can be found if gcd(a, n)=1 using the **Extended Euclidean Algorithm**."
   ]
  },
  {
   "cell_type": "markdown",
   "id": "52859d47-5ac5-4f7a-a2a6-1d27d92e6fe9",
   "metadata": {},
   "source": [
    "## Extended Euclidean Algorithm\n",
    "\n",
    "The Extended Euclidean Algorithm is a version of GCD algorithm that also computes the coefficients x and y such that:\n",
    "\n",
    "a⋅x + b⋅y = gcd(a, b)\n",
    "\n",
    "Here’s how it works step by step:\n",
    "\n",
    "- Apply the Euclidean Algorithm to find the GCD of a and b\n",
    "- Work backwards to express the GCD as a linear combination of a and b (this is where we find the coefficients x and y)\n",
    "\n",
    "https://www.extendedeuclideanalgorithm.com/xea.php"
   ]
  },
  {
   "cell_type": "markdown",
   "id": "0af8dbd2-9a70-4f9b-a623-91bb9b8da449",
   "metadata": {},
   "source": [
    "## Steps to Find Modular Inverse Using Extended Euclidean Algorithm\n",
    "\n",
    "- Apply the Extended Euclidean Algorithm to a and n to find integers x and y such that:\n",
    "    a⋅x + n⋅y = gcd(a, n)\n",
    "- If gcd(a, n) = 1, then x (the coefficient of a) is the modular inverse of a mod n.\n",
    "- Ensure that x is positive by taking x mod n (if x is negative, add n to make it positive)."
   ]
  },
  {
   "cell_type": "markdown",
   "id": "c9a8dd73-7f83-4a56-91eb-dfc065f1a843",
   "metadata": {},
   "source": [
    "### Exercise\n",
    "\n",
    "Find the modular inverse of:\n",
    "- 27 mod 59"
   ]
  },
  {
   "cell_type": "markdown",
   "id": "12a7b2b8-8381-42b7-acd2-e65dce0eb95a",
   "metadata": {},
   "source": [
    "## Solution\n",
    "\n",
    "**Step 1: Apply the Euclidean Algorithm**\n",
    "\n",
    "We use the Euclidean Algorithm to find the GCD of 27 and 59:\n",
    "59 = 2⋅27 + 5\n",
    "27 = 5⋅5 + 2\n",
    "5 = 2⋅2 + 1\n",
    "2 = 2⋅1 + 0\n",
    "\n",
    "Since the remainder is now 0, the GCD is 1, which means 27 and 59 are coprime, so the inverse exists.\n",
    "\n",
    "**Step 2: Work Backwards (Extended Euclidean Algorithm)^^\n",
    "\n",
    "Now, we express 1 as a linear combination of 27 and 59 by working backwards through the Euclidean Algorithm:\n",
    "\n",
    "From the second-to-last equation:\n",
    "1 = 5 − 2⋅2\n",
    "\n",
    "Substitute 2 = 27 − 5⋅5 from the previous equation:\n",
    "1 = 5 − 2⋅(27 − 5⋅5) = 5 − 2⋅27 + 10⋅5 = 11⋅5 − 2⋅27\n",
    "\n",
    "Now, substitute 5 = 59 − 2⋅27 from the first equation:\n",
    "1 = 11⋅(59 − 2⋅27) − 2⋅27 = 11⋅59 − 22⋅27 − 2⋅27 = 11⋅59 − 24⋅27\n",
    "\n",
    "Thus, 1 = 11⋅59 + (−24)⋅27\n",
    "\n",
    "**Step 3: Make x Positive**\n",
    "\n",
    "The inverse is x = −24, but we need the positive equivalent modulo 59:\n",
    "x = −24 mod  59 = 59−24 = 35\n",
    "\n",
    "Final Answer:\n",
    "\n",
    "The modular inverse of 27 mod  59 35.\n",
    "\n",
    "You can verify this by checking:\n",
    "27⋅35 = 945\n",
    "945 mod 59 = 1"
   ]
  },
  {
   "cell_type": "code",
   "execution_count": 127,
   "id": "65780ec1-295c-4deb-b96f-afeb3be397f1",
   "metadata": {},
   "outputs": [],
   "source": [
    "def gcd_extended(a, b):\n",
    "    if a == 0:\n",
    "        return b, 0, 1\n",
    "    gcd, x1, y1 = gcd_extended(b % a, a)\n",
    "    x = y1 - (b // a) * x1\n",
    "    y = x1\n",
    "    return gcd, x, y\n",
    "\n",
    "def mod_inverse(a, n):\n",
    "    gcd, x, y = gcd_extended(a, n)\n",
    "    if gcd != 1:\n",
    "        return None  # Modular inverse doesn't exist if a and n are not coprime\n",
    "    else:\n",
    "        return x % n\n"
   ]
  },
  {
   "cell_type": "markdown",
   "id": "27a2f52d-3980-43a5-bc9b-d14b3eb20701",
   "metadata": {},
   "source": [
    "## Applications\n",
    "\n",
    "- Cryptography: Modular arithmetic is the foundation of cryptographic algorithms like RSA, where large prime numbers and modular inverses are essential.\n",
    "- Hashing: Many hash functions use modular arithmetic to map large values into a fixed range.\n",
    "- Random Number Generation: Modular arithmetic is used in linear congruential generators, which generate sequences of random numbers."
   ]
  },
  {
   "cell_type": "markdown",
   "id": "73f1c14d-944f-4ae0-a897-d89d33967f0e",
   "metadata": {},
   "source": [
    "## RSA Example\n",
    "\n",
    "\n",
    "Choose p = 3 and q = 11\n",
    "\n",
    "Compute n = p * q = 3 * 11 = 33\n",
    "\n",
    "Compute φ(n) = (p - 1) * (q - 1) = 2 * 10 = 20\n",
    "\n",
    "> The totient function φ(n) represents the number of integers from 1 to n that are coprime (i.e., have no common factors other than 1) with n.\n",
    "\n",
    "Choose e such that 1 < e < φ(n) and e and φ (n) are coprime. Let e = 7\n",
    "\n",
    "Compute a value for d such that (d * e) % φ(n) = 1. One solution is d = 3 [(3 * 7) % 20 = 1]\n",
    "\n",
    "Public key is (e, n) => (7, 33)\n",
    "\n",
    "Private key is (d, n) => (3, 33)\n",
    "\n",
    "The encryption of m = 2 is c = 27 % 33 = 29\n",
    "\n",
    "The decryption of c = 29 is m = 293 % 33 = 2\n",
    "\n",
    "**Source**:\n",
    "https://www.cs.utexas.edu/~mitra/honors/soln.html\n"
   ]
  },
  {
   "cell_type": "markdown",
   "id": "25ef62f1-e379-4867-93f5-3ac309a6c4e6",
   "metadata": {},
   "source": [
    "## Sets\n",
    "\n",
    "A set is a collection of elements without repetition. Sets are often used to store unique values and to perform operations such as union, intersection, and difference.\n",
    "\n",
    "### Set Operations:\n",
    "\n",
    "- Union (A∪B): The set of all elements in either set A or set B (or both)\n",
    "- Intersection (A∩B): The set of all elements common to both A and B\n",
    "- Difference (A−B): The set of all elements in A that are not in B\n",
    "- Symmetric Difference (AΔB): The set of elements in either A or B, but not in both\n",
    "- Subset: A⊆B means every element of A is also an element of B"
   ]
  },
  {
   "cell_type": "code",
   "execution_count": 146,
   "id": "36626463-81cd-4139-9320-b99dab0cd85e",
   "metadata": {},
   "outputs": [
    {
     "name": "stdout",
     "output_type": "stream",
     "text": [
      "Union: {1, 2, 3, 4, 5, 6}\n",
      "Intersection: {3, 4}\n",
      "Difference: {1, 2}\n",
      "Symmetric Difference: {1, 2, 5, 6}\n"
     ]
    }
   ],
   "source": [
    "A = {1, 2, 3, 4}\n",
    "B = {3, 4, 5, 6}\n",
    "\n",
    "# Union\n",
    "union = A | B  \n",
    "\n",
    "# Intersection\n",
    "intersection = A & B \n",
    "\n",
    "# Difference\n",
    "difference = A - B  \n",
    "\n",
    "# Symmetric Difference\n",
    "sym_difference = A ^ B \n",
    "\n",
    "print(\"Union:\", union)\n",
    "print(\"Intersection:\", intersection)\n",
    "print(\"Difference:\", difference)\n",
    "print(\"Symmetric Difference:\", sym_difference)\n"
   ]
  },
  {
   "cell_type": "markdown",
   "id": "43db1597-46ad-4d4b-bbed-319c92b36464",
   "metadata": {},
   "source": [
    "## Functions\n",
    "\n",
    "- Injective (One-to-One): A function f is injective if different elements of A map to different elements of B, i.e., if f(x1) = f(x2), then x1 = x2\n",
    "  > Imagine a room full of cats, and you are giving each cat a unique name. If you follow the rule that no two cats can have the same name, then this is an injective function!\n",
    "- Surjective (Onto): A function f is surjective if every element of B is the image of at least one element in A, i.e., for every y∈B, there exists x∈A such that f(x) = y\n",
    "   > Imagine you're at a pizza party, and there's a rule: every guest must get at least one slice of pizza, and all the pizza must be eaten. There might be a few slices of pizza hoarded by one person, but as long as every slice gets eaten, it's surjective!\n",
    "- Bijective: A function is bijective if it is both injective and surjective. This means every element in A maps to a unique element in B and covers all elements in B\n",
    "  > Imagine a school dance where every student must have exactly one dance partner. No two students have the same partner (no cheating!), and every student is dancing with someone. If one student is dancing with two partners, it’s no longer injective (that's a dance disaster!). If some students are left without partners, it’s not surjective (they're stuck doing the lonely shuffle)."
   ]
  },
  {
   "cell_type": "markdown",
   "id": "db470519-999f-48a9-8889-130228e80c32",
   "metadata": {},
   "source": [
    "### Injective, Surjective, or Both?\n",
    "\n",
    "- Consider the function f(x) = x$^2$ from R → R. Is it injective, surjective, or neither?\n",
    "\n",
    "    Domain: RR (all real numbers)\n",
    "    Codomain: RR (all real numbers)\n",
    "\n",
    "    Consider two values:\n",
    "\n",
    "    f(2) = 4\n",
    "    f(−2) = 4\n",
    "\n",
    "    Here, different inputs 2 and −2 give the same output (4), so f(x) = x$^2$ is not injective over the real numbers. It fails the injectivity test because there are pairs of different numbers (like 2 and -2) that result in the same value.\n",
    "\n",
    "    There's no x∈R such that f(x) = −1.\n",
    "\n",
    "    Therefore, the function is not surjective over R because negative numbers in the codomain cannot be mapped from any real number in the domain.\n",
    "\n",
    "- Consider the function f(x) = 2x + 1 from Z → Z. Is it injective, surjective, or bijective?\n",
    "\n",
    "    Domain: Z (all integers)\n",
    "    Codomain: Z (all integers)\n",
    "\n",
    "    For f(x) = 2x + 1, assume f(x1) = f(x2). Then:\n",
    "    2x1 + 1 = 2x2 + 1\n",
    "\n",
    "    Simplifying:\n",
    "    2x1 = 2x2 ⇒ x1 = x2\n",
    "\n",
    "    Thus, f(x) = 2x + 1 is injective because different inputs lead to different outputs.\n",
    "\n",
    "    Let y = 2x + 1. To solve for x, we get:\n",
    "    x=(y − 1)/2\n",
    "\n",
    "    For x to be an integer, y − 1 must be divisible by 2. This implies that y must be odd. Hence, f(x) = 2x + 1 only produces odd integers."
   ]
  },
  {
   "cell_type": "markdown",
   "id": "e86cde84-9f1f-40d1-96f8-b1fc33c5e01d",
   "metadata": {},
   "source": [
    "## Sequences\n",
    "\n",
    "A sequence is an ordered list of elements, often following a particular rule or pattern. Common sequences include arithmetic sequences and geometric sequences.\n",
    "\n",
    "- Arithmetic Sequence: A sequence where the difference between consecutive terms is constant\n",
    "- Geometric Sequence: A sequence where each term is obtained by multiplying the previous term by a constant\n",
    "- Fibonacci Sequence: A sequence where each term is the sum of the previous two terms"
   ]
  },
  {
   "cell_type": "code",
   "execution_count": 149,
   "id": "5356f84c-99d8-4878-b955-76bfe5fdf8c8",
   "metadata": {},
   "outputs": [],
   "source": [
    "def fibonacci(n):\n",
    "    fib_seq = [0, 1]\n",
    "    for i in range(2, n):\n",
    "        next_term = fib_seq[-1] + fib_seq[-2]\n",
    "        fib_seq.append(next_term)\n",
    "    return fib_seq"
   ]
  },
  {
   "cell_type": "code",
   "execution_count": 151,
   "id": "eca4ec59-e89d-4c94-b787-37e1ae7ae054",
   "metadata": {},
   "outputs": [
    {
     "data": {
      "text/plain": [
       "[0, 1, 1, 2, 3, 5, 8, 13, 21, 34]"
      ]
     },
     "execution_count": 151,
     "metadata": {},
     "output_type": "execute_result"
    }
   ],
   "source": [
    "fibonacci(10)"
   ]
  },
  {
   "cell_type": "markdown",
   "id": "35c99d2f-c7f2-4177-9faf-b67eafcad49b",
   "metadata": {},
   "source": [
    "## Induction: The Proof Technique\n",
    "\n",
    "Mathematical induction is a technique used to prove that a statement P(n) is true for all natural numbers n. The process involves two key steps:\n",
    "\n",
    "1. Base Case: Prove that the statement is true for the smallest value of n, often n = 1 (or n=0 in some cases).\n",
    "2. Inductive Step: Assume the statement is true for n = k (the inductive hypothesis), and then prove that the statement is also true for n = k + 1.\n",
    "\n",
    "If both steps hold, the statement P(n) is true for all natural numbers n."
   ]
  },
  {
   "cell_type": "markdown",
   "id": "0e03331c-3523-4621-9a84-a0f83773ebf6",
   "metadata": {},
   "source": [
    "### Example\n",
    "\n",
    "Prove that the sum of the first n odd numbers is n$^2$.\n",
    "\n",
    "Proposition P(n):\n",
    "1 + 3 + 5 + ⋯ + (2n − 1) = n$^2$\n",
    "\n",
    "Base Case (n=1):\n",
    "1 = 1$^2$\n",
    "\n",
    "So the base case is true.\n",
    "\n",
    "Inductive Hypothesis: Assume that the sum of the first k odd numbers is k$^2$, i.e.,\n",
    "1 + 3 + 5 + ⋯ + (2k − 1) = k$^2^\n",
    "\n",
    "Inductive Step: Prove that the sum of the first k + 1 odd numbers is (k + 1)$^2$. Start with the sum of the first k odd numbers:\n",
    "1 + 3 + 5 + ⋯ + (2k − 1) + **(2(k + 1) − 1)**\n",
    "\n",
    "By the inductive hypothesis, the sum of the first k odd numbers is k$^2$. So we add the next odd number:\n",
    "k$^2$ + **(2k + 1)** = (k + 1)$^2$\n",
    "\n",
    "Hence, P(k + 1) is true.\n",
    "\n",
    "Conclusion: By induction, the sum of the first nn odd numbers is n$^2$ for all n.\n",
    "\n"
   ]
  },
  {
   "cell_type": "markdown",
   "id": "0ecd927a-d12c-4d1b-ad0e-ba4829b03471",
   "metadata": {},
   "source": [
    "## Logic Fundamentals\n",
    "\n",
    "Propositional logic deals with **propositions** (statements that are either true or false) and logical connectives that combine these propositions.\n",
    "\n",
    "- P∧Q is true if both P and Q are true\n",
    "- P∨Q is true if at least one of P or Q is true\n",
    "- ¬P is true if P is false\n",
    "- P → Q is true unless P is true and Q is false\n",
    "- P ↔ Q is true if both P and Q have the same truth value (either both true or both false)."
   ]
  },
  {
   "cell_type": "markdown",
   "id": "ae793f5f-9541-4cc1-a6ad-16731a6185ca",
   "metadata": {},
   "source": [
    "## Common Logical Equivalences\n",
    "\n",
    "1. De Morgan’s Laws:\n",
    "\n",
    "¬(P∧Q) ≡ (¬P∨¬Q)\n",
    "¬(P∨Q) ≡ (¬P∧¬Q)\n",
    "\n",
    "2. Double Negation:\n",
    "\n",
    "¬(¬P) ≡ P\n",
    "\n",
    "3. Distributive Laws:\n",
    "\n",
    "P∧(Q∨R) ≡ (P∧Q)∨(P∧R)\n",
    "P∨(Q∧R) ≡ (P∨Q)∧(P∨R)\n",
    "        \n",
    "4. Implication Equivalence:\n",
    "\n",
    "P→Q ≡ ¬P∨Q"
   ]
  },
  {
   "cell_type": "markdown",
   "id": "aa5fb0e6-e9fa-4728-8cd0-47e1e1df8150",
   "metadata": {},
   "source": [
    "## Quantifiers\n",
    "\n",
    "- Universal Quantifier (∀)\n",
    "\n",
    "> \"For all\" or \"For every.\"\n",
    "\n",
    "- Existential Quantifier (∃):\n",
    "\n",
    "> \"There exists\" or \"At least one.\" "
   ]
  },
  {
   "cell_type": "markdown",
   "id": "90bbf482-9b5f-4843-92d3-114c9d470278",
   "metadata": {},
   "source": [
    "## Logical Argument\n",
    "\n",
    "A logical argument consists of premises (assumptions) and a conclusion. The argument is valid if the conclusion logically follows from the premises.\n",
    "\n",
    "**Modus Ponens**:\n",
    "\n",
    "If P → Q and P, then Q.\n",
    "\n",
    "**Modus Tollens**:\n",
    "\n",
    "If P → Q and ¬Q, then ¬P"
   ]
  },
  {
   "cell_type": "markdown",
   "id": "30e360f9-c44b-4180-b5e2-c433fc3f8028",
   "metadata": {},
   "source": [
    "## Logical Fallacies\n",
    "\n",
    "- Affirming the Consequent:\n",
    "\n",
    "Logical Fallacy: If P → Q, and Q is true, then P must be true (which is incorrect).\n",
    "\n",
    "> If I have a cat (P), I have pets (Q). I have pets (Q is true), which means that I have a cat.\n",
    "> \n",
    "> Wait... I may have a dog or a parrot!\n",
    "\n",
    "- Denying the Antecedent:\n",
    "\n",
    "Logical Fallacy: If P → Q, and P is false, then Q must be false (which is incorrect).\n",
    "\n",
    "> If I’m a wizard, I can cast spells. I’m not a wizard. Therefore, I can’t use a remote control.\n",
    ">\n",
    "> Wait a second... just because you aren’t a wizard doesn’t mean you can’t work the TV remote. Who needs magic when you’ve got batteries?"
   ]
  },
  {
   "cell_type": "markdown",
   "id": "b62fe690-61a2-4f73-b9e2-4ec0bdd3dcd7",
   "metadata": {},
   "source": [
    "# Probability & Statistics\n",
    "\n",
    "## Probability of events\n",
    "\n",
    "**Probability** is a measure of how likely an event is to occur. It ranges from 0 to 1.\n",
    "\n",
    "P(A) = (Total number of possible outcomes) / (Number of favorable outcomes)\n",
    "\n",
    "P(heads) = 1/2\n",
    "\n",
    "## Sample Space and Events\n",
    "\n",
    "Sample Space (S): The set of all possible outcomes of a random experiment.\n",
    "\n",
    "Example: For rolling a die, the sample space is S={1, 2, 3, 4, 5, 6}.\n",
    "\n",
    "Event: A subset of the sample space, which represents outcomes of interest.\n",
    "\n",
    "Example: The event of rolling an even number is A={2, 4, 6}.\n",
    "\n",
    "**Types of Events**:\n",
    "\n",
    "Simple Event: An event with a single outcome.\n",
    "\n",
    "Example: Rolling a 4 on a die.\n",
    "\n",
    "Compound Event: An event with multiple outcomes.\n",
    "\n",
    "Example: Rolling an even number (which includes 2, 5, and 6):\n",
    "\n",
    "https://codeforces.com/problemset/problem/9/A\n",
    "\n",
    "**Complementary Events**\n",
    "\n",
    "The complement of an event A (denoted as A$^c$) is the event that A does not happen.\n",
    "\n",
    "The probability of the complement is:\n",
    "\n",
    "P(A$^c$) = 1 − P(A)\n",
    "\n",
    "**Example**:\n",
    "\n",
    "If the probability of raining tomorrow is 0.3, the probability of it not raining is:\n",
    "\n",
    "P(not raining) = 1 − 0.3 = 0.7"
   ]
  },
  {
   "cell_type": "markdown",
   "id": "9fcae8a8-7d94-4fed-96cc-c94b958752e3",
   "metadata": {},
   "source": [
    "## Addition Rule of Probability\n",
    "\n",
    "If you want to find the probability that one or the other of two events happens (denoted as A or B), use the addition rule:\n",
    "\n",
    "P(A∪B) = P(A) + P(B) − P(A∩B)\n",
    "\n",
    "**Example**:\n",
    "\n",
    "Suppose the probability of drawing a red card from a deck of cards is P(Red) = 1/2, and the probability of drawing a face card is P(Face) = 12/52.\n",
    "\n",
    "If 6 of the face cards are red, the probability of drawing a red card or a face card is:\n",
    "\n",
    "P(Red∪Face) = 26/52+12/52−6/52=32/52\n",
    "\n",
    "**Example**:\n",
    "\n",
    "A jar contains 4 red, 5 blue, and 6 green marbles. What is the probability of randomly selecting a green marble?"
   ]
  },
  {
   "cell_type": "markdown",
   "id": "76d5db61-e570-4312-ba3c-31a70575b06d",
   "metadata": {},
   "source": [
    "## Independent and Dependent Events\n",
    "\n",
    "Two events A and B are **independent** if the occurrence of one does not affect the occurrence of the other.\n",
    "\n",
    "- Multiplication Rule for Independent Events:\n",
    "P(A∩B) = P(A)⋅P(B)\n",
    "\n",
    "> Dice rolls are independent\n",
    "\n",
    "Two events A and B are **dependent** if the outcome of one affects the outcome of the other.\n",
    "\n",
    "> Imagine you have a jar filled with 10 cookies: 5 chocolate chip and 5 oatmeal. You reach into the jar, grab a cookie, and then eat it without putting it back. Now, you're about to grab another cookie.\n",
    ">\n",
    "> Event A: You grab a chocolate chip cookie first;\n",
    ">\n",
    "> Event B: You grab an oatmeal raisin cookie second.\n",
    ">\n",
    "> Since you ate the first cookie and didn’t put it back, the probability of grabbing the second cookie is affected by what you grabbed first. These events are dependent, because the total number of cookies is reduced after you take the first one."
   ]
  },
  {
   "cell_type": "markdown",
   "id": "5a98b85d-fb20-42b3-aedf-57e58bcd8267",
   "metadata": {},
   "source": [
    "## Conditional Probability\n",
    "\n",
    "Conditional probability is the probability that event A happens given that event B has already occurred. It is denoted P(A∣B) and calculated as:\n",
    "\n",
    "P(A∣B)=P(A∩B)P(B)\n",
    "\n",
    "> Suppose you have a mischievous friend who is notorious for stealing cookies when left alone in the kitchen.\n",
    ">\n",
    "> Event A: Your friend goes into the kitchen;\n",
    "> Event B: Cookies go missing.\n",
    ">\n",
    "> Suppose that P(Cookies missing∣Friend in kitchen) = 0.9\n",
    "> \n",
    "> However, if your friend doesn’t go into the kitchen, the probability that cookies go missing is much lower:\n",
    ">\n",
    "> P(Cookies missing∣Friend not in kitchen) = 0.1\n",
    ">\n",
    "> If the overall probability of missing cookies is 0.3, then\n",
    ">\n",
    "> P(Cookies missing) = P(Cookies missing∣Friend in kitchen)⋅P(Friend in kitchen) + P(Cookies missing∣Friend not in kitchen)⋅P(Friend not in kitchen)\n",
    ">\n",
    "> 0.3 = 0.9⋅p + 0.1⋅(1 − p)\n",
    ">\n",
    "> 0.2 = 0.8p\n",
    ">\n",
    "> p = 0.25\n",
    ">\n",
    "> Here p is the probability that your friend is in the kitchen.\n",
    ">\n",
    "> When your friend is in the kitchen, there’s a 90% chance that cookies go missing.\n",
    "> \n",
    "> When your friend is not in the kitchen, there’s only a 10% chance of missing cookies."
   ]
  },
  {
   "cell_type": "markdown",
   "id": "08b46c2c-b832-46d1-bcbf-37f4987488f8",
   "metadata": {},
   "source": [
    "## Discrete Random Variables\n",
    "\n",
    "A **random variable** is a numerical outcome of a random experiment. It assigns a number to each possible outcome of the experiment.\n",
    "\n",
    "A **discrete random** variable is a random variable that can take on a finite or countably infinite set of values. Each value has a specific probability associated with it.\n",
    "\n",
    "> The random variable X represents the result of rolling a die.\n",
    ">\n",
    "> Possible values: X∈{1, 2, 3, 4, 5, 6}"
   ]
  },
  {
   "cell_type": "markdown",
   "id": "54d6270c-7d56-43d9-a282-1d40d5b57c74",
   "metadata": {},
   "source": [
    "## Probability Mass Function\n",
    "\n",
    "The probability mass function (PMF) of a discrete random variable assigns a probability to each possible value the variable can take. For a discrete random variable X, the PMF is denoted by P(X=x), which gives the probability that X takes the value x.\n",
    "\n",
    "**Properties of PMFs**:\n",
    "\n",
    "- 0≤P(X = x)≤1 for all x.\n",
    "\n",
    "- The sum of all probabilities must equal 1:\n",
    "\n",
    "    ∑P(X = x) = 1\n",
    "\n",
    "**Example**:\n",
    "\n",
    "Let X be the random variable representing the outcome of a die roll. The PMF of X is:\n",
    "\n",
    "P(X = x) = 1/6, for x∈{1, 2, 3, 4, 5, 6}\n",
    "\n",
    "This is because each side of a fair die has an equal chance of landing face up."
   ]
  },
  {
   "cell_type": "markdown",
   "id": "674b5e05-4988-47d2-a834-e31afc9a7869",
   "metadata": {},
   "source": [
    "## Cumulative Distribution Function\n",
    "\n",
    "The cumulative distribution function (CDF) of a discrete random variable X gives the probability that X is less than or equal to a specific value x:\n",
    "\n",
    "F$_X$(x) = P(X≤x)\n",
    "\n",
    "**Example**:\n",
    "\n",
    "Let’s calculate the CDF for a die roll. We know the PMF, so the CDF is:\n",
    "\n",
    "F$_X$(1) = P(X≤1) = 1/6\n",
    "\n",
    "F$_X$(2) = P(X≤2) = 1/6 + 1/6 = 1/3\n",
    "\n",
    "F$_X$(3) = P(X≤3) = 3/6 = 1/2, and so on, until:\n",
    "\n",
    "F$_X$(6) = P(X≤6) = 1"
   ]
  },
  {
   "cell_type": "markdown",
   "id": "ed4302d8-6038-49bd-b8fe-cbde495cbc47",
   "metadata": {},
   "source": [
    "## Expected Value (Mean)\n",
    "\n",
    "The expected value (or mean) of a discrete random variable X is a measure of the central tendency or \"average\" value of X. It is calculated by summing each possible value of XX multiplied by its corresponding probability:\n",
    "\n",
    "E(X) = ∑x⋅P(X = x)\n",
    "\n",
    "> You’re at a pizza party, and the number of pizza slices you get is determined by a spin-the-wheel game. The wheel gives you 1, 2, or 3 slices, but the chances aren’t equal:\n",
    ">\n",
    "> P(1 slice)=0.2\n",
    "> \n",
    "> P(2 slices)=0.5\n",
    "> \n",
    "> P(3 slices)=0.3\n",
    ">\n",
    "> Expected Value of Pizza Slices:\n",
    "> \n",
    "> E(S)=1⋅0.2+2⋅0.5+3⋅0.3\n",
    "> \n",
    "> E(S)=0.2+1+0.9=2.1\n",
    ">\n",
    "> So on average, you’ll get 2.1 slices of pizza, which is fantastic!"
   ]
  },
  {
   "cell_type": "markdown",
   "id": "f8ea2851-f3c6-463b-9408-c5c8448ed1e4",
   "metadata": {},
   "source": [
    "## Variance and Standard Deviation\n",
    "\n",
    "The variance of a discrete random variable XX measures how spread out the values of XX are from the mean E(X)E(X). The variance is denoted as Var(X)Var(X) and is calculated as:\n",
    "Var(X) = E[(X − E(X))$^2$] = ∑x(x − E(X))$^2$⋅P(X = x)\n",
    "\n",
    "The standard deviation is the square root of the variance:\n",
    "SD(X) = $\\sqrt{Var(X)}$"
   ]
  },
  {
   "cell_type": "markdown",
   "id": "f54ea4ed-e255-4444-a9fb-8962112699aa",
   "metadata": {},
   "source": [
    "## Statistics Overview\n",
    "\n",
    "Statistics is the branch of mathematics that deals with collecting, organizing, analyzing, interpreting, and presenting data.\n",
    "\n",
    "- Descriptive Statistics: Summarizing and organizing data so it can be understood easily (e.g., calculating averages, percentages, charts)\n",
    "- Inferential Statistics: Drawing conclusions about a population based on a sample of data (e.g., hypothesis testing, confidence intervals)\n",
    "\n",
    "**Median**:\n",
    "\n",
    "The median is the middle value when data is ordered from least to greatest.\n",
    "\n",
    "- If there’s an odd number of values, it’s the middle one.\n",
    "- If there’s an even number of values, it’s the average of the two middle ones.\n",
    "\n",
    "Example: In the data set [1, 3, 4, 6, 9], the median is 4.\n",
    "\n",
    "**Mode**:\n",
    "\n",
    "The mode is the most frequent value in the data set.\n",
    "\n",
    "Example: In the data set [1, 2, 2, 3, 4], the mode is 2 because it appears twice.\n",
    "\n",
    "**Range**:\n",
    "\n",
    "The range is the difference between the largest and smallest values.\n",
    "\n",
    "**Variance**:\n",
    "\n",
    "The variance measures the spread of the data around the mean. It’s the average of the squared differences from the mean.\n",
    "\n",
    "**Standard Deviation**:\n",
    "\n",
    "The standard deviation is the square root of the variance and represents the average distance from the mean.\n",
    "\n",
    "Example: If a test’s standard deviation is high, the scores are widely spread out; if it’s low, the scores are tightly grouped around the mean."
   ]
  },
  {
   "cell_type": "markdown",
   "id": "abbab868-59e5-43b3-809a-2fb5df05cb00",
   "metadata": {},
   "source": [
    "## Inferential Statistics\n",
    "\n",
    "1. Hypothesis Testing:\n",
    "\n",
    "This is used to test whether a certain statement (hypothesis) about a population parameter is true.\n",
    "\n",
    "- Null Hypothesis (H0): A statement that there is no effect or no difference.\n",
    "- Alternative Hypothesis (HA): The statement we want to test, suggesting there is an effect or difference.\n",
    "\n",
    "Example: Testing whether a new drug is more effective than the current drug.\n",
    "\n",
    "- H0: The new drug is no better than the old one.\n",
    "- HA: The new drug is better than the old one.\n",
    "\n",
    "2. Confidence Intervals:\n",
    "\n",
    "A confidence interval gives a range of values that is likely to contain a population parameter (like the mean) with a certain level of confidence (e.g., 95%).\n",
    "\n",
    "Example: If we calculate a 95% confidence interval for the average weight of students to be [65,75] kg, we are 95% confident that the true average weight lies between 65 and 75 kg.\n",
    "\n",
    "3. P-Value:\n",
    "\n",
    "The p-value is the probability of observing the data we have, assuming the null hypothesis is true. If the p-value is small (typically less than 0.05), we reject the null hypothesis."
   ]
  },
  {
   "attachments": {
    "a4e48f5c-1ea3-48da-b5a4-e6c3440904cb.png": {
     "image/png": "[encoded data removed]"
    }
   },
   "cell_type": "markdown",
   "id": "12f05608-a51d-458b-92c3-30792fe461ab",
   "metadata": {},
   "source": [
    "![1_cr9_-ts4vqVBOttf-EVuQQ-1450856569.png](attachment:a4e48f5c-1ea3-48da-b5a4-e6c3440904cb.png)"
   ]
  },
  {
   "cell_type": "markdown",
   "id": "ca8d074e-bd1c-4541-b423-47cdc99e8737",
   "metadata": {},
   "source": [
    "## Normal Distribution\n",
    "\n",
    "A normal distribution is a continuous probability distribution that is symmetric around its mean, meaning the data near the mean are more frequent in occurrence than data far from the mean.\n",
    "\n",
    "The standard normal distribution is a specific form of the normal distribution with:\n",
    "\n",
    "- Mean (μ) = 0\n",
    "- Standard deviation (σ) = 1\n",
    "\n",
    "**Properties**:\n",
    "\n",
    "- Symmetry: The distribution is symmetric around the mean (which is 0), meaning that the left and right sides of the curve are mirror images.\n",
    "- Total Area Under the Curve: The total area under the standard normal curve is 1. This represents the entire probability space.\n",
    "- Empirical Rule (68-95-99.7 Rule):\n",
    "\n",
    "    68% of the data lies within 1 standard deviation of the mean (−1<x<1).\n",
    "  \n",
    "    95% of the data lies within 2 standard deviations of the mean (−2<x<2).\n",
    "  \n",
    "    99.7% of the data lies within 3 standard deviations of the mean (−3<x<3).\n",
    "\n",
    "This means most of the data is concentrated close to the mean, and the farther away from the mean you go, the rarer the data points.\n",
    "\n",
    "**Z-scores**\n",
    "\n",
    "A z-score measures how many standard deviations an individual data point is from the mean. It is calculated as:\n",
    "z = (x−μ)/ σ\n",
    "\n",
    "Where:\n",
    "\n",
    "- x is a value from the dataset.\n",
    "- μ is the mean of the dataset.\n",
    "- σ is the standard deviation of the dataset.\n",
    "\n",
    "### Applications of the Standard Normal Distribution\n",
    "\n",
    "- Hypothesis Testing: In hypothesis testing, z-scores are used to determine how likely a sample statistic is under a given null hypothesis. A large z-score might indicate that the null hypothesis should be rejected.\n",
    "\n",
    "- Confidence Intervals: Confidence intervals are constructed using z-scores to determine the range in which a population parameter lies with a certain confidence level (e.g., 95% confidence interval).\n",
    "\n",
    "- Standardizing Data: Data that follows a normal distribution can be transformed into the standard normal distribution using z-scores, which simplifies the analysis."
   ]
  },
  {
   "cell_type": "code",
   "execution_count": null,
   "id": "c52bc3b0-ac47-4f5d-8dd7-3ff9284ed278",
   "metadata": {},
   "outputs": [],
   "source": []
  }
 ],
 "metadata": {
  "kernelspec": {
   "display_name": "Python 3 (ipykernel)",
   "language": "python",
   "name": "python3"
  },
  "language_info": {
   "codemirror_mode": {
    "name": "ipython",
    "version": 3
   },
   "file_extension": ".py",
   "mimetype": "text/x-python",
   "name": "python",
   "nbconvert_exporter": "python",
   "pygments_lexer": "ipython3",
   "version": "3.11.5"
  }
 },
 "nbformat": 4,
 "nbformat_minor": 5
}
